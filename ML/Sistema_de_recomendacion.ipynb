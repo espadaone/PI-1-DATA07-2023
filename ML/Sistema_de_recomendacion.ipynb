{
 "cells": [
  {
   "attachments": {},
   "cell_type": "markdown",
   "metadata": {},
   "source": [
    "* Para el Sistema de Recomendacion instalaremos las librerias necesarias para armarlo debidamente"
   ]
  },
  {
   "cell_type": "code",
   "execution_count": 1,
   "metadata": {},
   "outputs": [],
   "source": [
    "import pandas as pd\n",
    "from surprise import SVDpp\n",
    "from surprise import Dataset, Reader\n",
    "from surprise.model_selection import train_test_split\n",
    "from surprise import SVD\n",
    "from surprise import accuracy\n",
    "from collections import defaultdict"
   ]
  },
  {
   "cell_type": "code",
   "execution_count": 3,
   "metadata": {},
   "outputs": [],
   "source": [
    "from surprise import SVD"
   ]
  },
  {
   "attachments": {},
   "cell_type": "markdown",
   "metadata": {},
   "source": [
    "*Traemos la informacion"
   ]
  },
  {
   "cell_type": "code",
   "execution_count": 53,
   "metadata": {},
   "outputs": [],
   "source": [
    "movies=pd.read_csv('movies_analisis.csv')\n",
    "\n",
    "reviews=pd.read_csv('reviews.csv')"
   ]
  },
  {
   "cell_type": "code",
   "execution_count": 54,
   "metadata": {},
   "outputs": [],
   "source": [
    "movies = movies.iloc[:, 1:]\n",
    "reviews = reviews.iloc[:, 1:]"
   ]
  },
  {
   "attachments": {},
   "cell_type": "markdown",
   "metadata": {},
   "source": [
    "*Preparamos los datos de las peliculas para que tome unicamente los Id y descripciones "
   ]
  },
  {
   "cell_type": "code",
   "execution_count": 55,
   "metadata": {},
   "outputs": [
    {
     "data": {
      "text/html": [
       "<div>\n",
       "<style scoped>\n",
       "    .dataframe tbody tr th:only-of-type {\n",
       "        vertical-align: middle;\n",
       "    }\n",
       "\n",
       "    .dataframe tbody tr th {\n",
       "        vertical-align: top;\n",
       "    }\n",
       "\n",
       "    .dataframe thead th {\n",
       "        text-align: right;\n",
       "    }\n",
       "</style>\n",
       "<table border=\"1\" class=\"dataframe\">\n",
       "  <thead>\n",
       "    <tr style=\"text-align: right;\">\n",
       "      <th></th>\n",
       "      <th>title</th>\n",
       "      <th>listed_in</th>\n",
       "      <th>description</th>\n",
       "      <th>Id</th>\n",
       "    </tr>\n",
       "  </thead>\n",
       "  <tbody>\n",
       "    <tr>\n",
       "      <th>0</th>\n",
       "      <td>ricky velez: here's everything</td>\n",
       "      <td>comedy, stand up</td>\n",
       "      <td>​comedian ricky velez bares it all with his ho...</td>\n",
       "      <td>hs1</td>\n",
       "    </tr>\n",
       "    <tr>\n",
       "      <th>1</th>\n",
       "      <td>silent night</td>\n",
       "      <td>crime, drama, thriller</td>\n",
       "      <td>mark, a low end south london hitman recently r...</td>\n",
       "      <td>hs2</td>\n",
       "    </tr>\n",
       "    <tr>\n",
       "      <th>2</th>\n",
       "      <td>the marksman</td>\n",
       "      <td>action, thriller</td>\n",
       "      <td>a hardened arizona rancher tries to protect an...</td>\n",
       "      <td>hs3</td>\n",
       "    </tr>\n",
       "    <tr>\n",
       "      <th>3</th>\n",
       "      <td>gaia</td>\n",
       "      <td>horror</td>\n",
       "      <td>a forest ranger and two survivalists with a cu...</td>\n",
       "      <td>hs4</td>\n",
       "    </tr>\n",
       "    <tr>\n",
       "      <th>4</th>\n",
       "      <td>settlers</td>\n",
       "      <td>science fiction, thriller</td>\n",
       "      <td>mankind's earliest settlers on the martian fro...</td>\n",
       "      <td>hs5</td>\n",
       "    </tr>\n",
       "    <tr>\n",
       "      <th>...</th>\n",
       "      <td>...</td>\n",
       "      <td>...</td>\n",
       "      <td>...</td>\n",
       "      <td>...</td>\n",
       "    </tr>\n",
       "    <tr>\n",
       "      <th>21543</th>\n",
       "      <td>zodiac</td>\n",
       "      <td>cult movies, dramas, thrillers</td>\n",
       "      <td>a political cartoonist, a crime reporter and a...</td>\n",
       "      <td>ns8803</td>\n",
       "    </tr>\n",
       "    <tr>\n",
       "      <th>21544</th>\n",
       "      <td>zombie dumb</td>\n",
       "      <td>kids' tv, korean tv shows, tv comedies</td>\n",
       "      <td>while living alone in a spooky town, a young g...</td>\n",
       "      <td>ns8804</td>\n",
       "    </tr>\n",
       "    <tr>\n",
       "      <th>21545</th>\n",
       "      <td>zombieland</td>\n",
       "      <td>comedies, horror movies</td>\n",
       "      <td>looking to survive in a world taken over by zo...</td>\n",
       "      <td>ns8805</td>\n",
       "    </tr>\n",
       "    <tr>\n",
       "      <th>21546</th>\n",
       "      <td>zoom</td>\n",
       "      <td>children &amp; family movies, comedies</td>\n",
       "      <td>dragged from civilian life, a former superhero...</td>\n",
       "      <td>ns8806</td>\n",
       "    </tr>\n",
       "    <tr>\n",
       "      <th>21547</th>\n",
       "      <td>zubaan</td>\n",
       "      <td>dramas, international movies, music &amp; musicals</td>\n",
       "      <td>a scrappy but poor boy worms his way into a ty...</td>\n",
       "      <td>ns8807</td>\n",
       "    </tr>\n",
       "  </tbody>\n",
       "</table>\n",
       "<p>21548 rows × 4 columns</p>\n",
       "</div>"
      ],
      "text/plain": [
       "                                title  \\\n",
       "0      ricky velez: here's everything   \n",
       "1                        silent night   \n",
       "2                        the marksman   \n",
       "3                                gaia   \n",
       "4                            settlers   \n",
       "...                               ...   \n",
       "21543                          zodiac   \n",
       "21544                     zombie dumb   \n",
       "21545                      zombieland   \n",
       "21546                            zoom   \n",
       "21547                          zubaan   \n",
       "\n",
       "                                            listed_in  \\\n",
       "0                                    comedy, stand up   \n",
       "1                              crime, drama, thriller   \n",
       "2                                    action, thriller   \n",
       "3                                              horror   \n",
       "4                           science fiction, thriller   \n",
       "...                                               ...   \n",
       "21543                  cult movies, dramas, thrillers   \n",
       "21544          kids' tv, korean tv shows, tv comedies   \n",
       "21545                         comedies, horror movies   \n",
       "21546              children & family movies, comedies   \n",
       "21547  dramas, international movies, music & musicals   \n",
       "\n",
       "                                             description      Id  \n",
       "0      ​comedian ricky velez bares it all with his ho...     hs1  \n",
       "1      mark, a low end south london hitman recently r...     hs2  \n",
       "2      a hardened arizona rancher tries to protect an...     hs3  \n",
       "3      a forest ranger and two survivalists with a cu...     hs4  \n",
       "4      mankind's earliest settlers on the martian fro...     hs5  \n",
       "...                                                  ...     ...  \n",
       "21543  a political cartoonist, a crime reporter and a...  ns8803  \n",
       "21544  while living alone in a spooky town, a young g...  ns8804  \n",
       "21545  looking to survive in a world taken over by zo...  ns8805  \n",
       "21546  dragged from civilian life, a former superhero...  ns8806  \n",
       "21547  a scrappy but poor boy worms his way into a ty...  ns8807  \n",
       "\n",
       "[21548 rows x 4 columns]"
      ]
     },
     "execution_count": 55,
     "metadata": {},
     "output_type": "execute_result"
    }
   ],
   "source": [
    "movies=movies.drop(['show_id','cast','date_added','release_year','rating','duration_int','duration_type','scored'],axis=1)\n",
    "movies"
   ]
  },
  {
   "cell_type": "code",
   "execution_count": 56,
   "metadata": {},
   "outputs": [
    {
     "data": {
      "text/html": [
       "<div>\n",
       "<style scoped>\n",
       "    .dataframe tbody tr th:only-of-type {\n",
       "        vertical-align: middle;\n",
       "    }\n",
       "\n",
       "    .dataframe tbody tr th {\n",
       "        vertical-align: top;\n",
       "    }\n",
       "\n",
       "    .dataframe thead th {\n",
       "        text-align: right;\n",
       "    }\n",
       "</style>\n",
       "<table border=\"1\" class=\"dataframe\">\n",
       "  <thead>\n",
       "    <tr style=\"text-align: right;\">\n",
       "      <th></th>\n",
       "      <th>Id</th>\n",
       "      <th>title</th>\n",
       "      <th>listed_in</th>\n",
       "      <th>description</th>\n",
       "    </tr>\n",
       "  </thead>\n",
       "  <tbody>\n",
       "    <tr>\n",
       "      <th>0</th>\n",
       "      <td>hs1</td>\n",
       "      <td>ricky velez: here's everything</td>\n",
       "      <td>comedy, stand up</td>\n",
       "      <td>​comedian ricky velez bares it all with his ho...</td>\n",
       "    </tr>\n",
       "    <tr>\n",
       "      <th>1</th>\n",
       "      <td>hs2</td>\n",
       "      <td>silent night</td>\n",
       "      <td>crime, drama, thriller</td>\n",
       "      <td>mark, a low end south london hitman recently r...</td>\n",
       "    </tr>\n",
       "    <tr>\n",
       "      <th>2</th>\n",
       "      <td>hs3</td>\n",
       "      <td>the marksman</td>\n",
       "      <td>action, thriller</td>\n",
       "      <td>a hardened arizona rancher tries to protect an...</td>\n",
       "    </tr>\n",
       "    <tr>\n",
       "      <th>3</th>\n",
       "      <td>hs4</td>\n",
       "      <td>gaia</td>\n",
       "      <td>horror</td>\n",
       "      <td>a forest ranger and two survivalists with a cu...</td>\n",
       "    </tr>\n",
       "    <tr>\n",
       "      <th>4</th>\n",
       "      <td>hs5</td>\n",
       "      <td>settlers</td>\n",
       "      <td>science fiction, thriller</td>\n",
       "      <td>mankind's earliest settlers on the martian fro...</td>\n",
       "    </tr>\n",
       "  </tbody>\n",
       "</table>\n",
       "</div>"
      ],
      "text/plain": [
       "    Id                           title                  listed_in  \\\n",
       "0  hs1  ricky velez: here's everything           comedy, stand up   \n",
       "1  hs2                    silent night     crime, drama, thriller   \n",
       "2  hs3                    the marksman           action, thriller   \n",
       "3  hs4                            gaia                     horror   \n",
       "4  hs5                        settlers  science fiction, thriller   \n",
       "\n",
       "                                         description  \n",
       "0  ​comedian ricky velez bares it all with his ho...  \n",
       "1  mark, a low end south london hitman recently r...  \n",
       "2  a hardened arizona rancher tries to protect an...  \n",
       "3  a forest ranger and two survivalists with a cu...  \n",
       "4  mankind's earliest settlers on the martian fro...  "
      ]
     },
     "execution_count": 56,
     "metadata": {},
     "output_type": "execute_result"
    }
   ],
   "source": [
    "movies = movies.reindex(columns=['Id', 'title', 'listed_in','description'])\n",
    "movies.head()\n"
   ]
  },
  {
   "attachments": {},
   "cell_type": "markdown",
   "metadata": {},
   "source": [
    "* Ordenamos el dataset de los reviews en user,Id,y scored"
   ]
  },
  {
   "cell_type": "code",
   "execution_count": 57,
   "metadata": {},
   "outputs": [
    {
     "data": {
      "text/html": [
       "<div>\n",
       "<style scoped>\n",
       "    .dataframe tbody tr th:only-of-type {\n",
       "        vertical-align: middle;\n",
       "    }\n",
       "\n",
       "    .dataframe tbody tr th {\n",
       "        vertical-align: top;\n",
       "    }\n",
       "\n",
       "    .dataframe thead th {\n",
       "        text-align: right;\n",
       "    }\n",
       "</style>\n",
       "<table border=\"1\" class=\"dataframe\">\n",
       "  <thead>\n",
       "    <tr style=\"text-align: right;\">\n",
       "      <th></th>\n",
       "      <th>userId</th>\n",
       "      <th>Id</th>\n",
       "      <th>scored</th>\n",
       "    </tr>\n",
       "  </thead>\n",
       "  <tbody>\n",
       "    <tr>\n",
       "      <th>0</th>\n",
       "      <td>1</td>\n",
       "      <td>as680</td>\n",
       "      <td>1.0</td>\n",
       "    </tr>\n",
       "    <tr>\n",
       "      <th>1</th>\n",
       "      <td>1</td>\n",
       "      <td>ns2186</td>\n",
       "      <td>4.5</td>\n",
       "    </tr>\n",
       "    <tr>\n",
       "      <th>2</th>\n",
       "      <td>1</td>\n",
       "      <td>hs2381</td>\n",
       "      <td>5.0</td>\n",
       "    </tr>\n",
       "    <tr>\n",
       "      <th>3</th>\n",
       "      <td>1</td>\n",
       "      <td>ns3663</td>\n",
       "      <td>5.0</td>\n",
       "    </tr>\n",
       "    <tr>\n",
       "      <th>4</th>\n",
       "      <td>1</td>\n",
       "      <td>as9500</td>\n",
       "      <td>5.0</td>\n",
       "    </tr>\n",
       "  </tbody>\n",
       "</table>\n",
       "</div>"
      ],
      "text/plain": [
       "   userId      Id  scored\n",
       "0       1   as680     1.0\n",
       "1       1  ns2186     4.5\n",
       "2       1  hs2381     5.0\n",
       "3       1  ns3663     5.0\n",
       "4       1  as9500     5.0"
      ]
     },
     "execution_count": 57,
     "metadata": {},
     "output_type": "execute_result"
    }
   ],
   "source": [
    "reviews=reviews.drop(['Fecha'],axis=1)\n",
    "reviews.head()"
   ]
  },
  {
   "attachments": {},
   "cell_type": "markdown",
   "metadata": {},
   "source": [
    "Unimos las dos bases para implementar "
   ]
  },
  {
   "cell_type": "code",
   "execution_count": 58,
   "metadata": {},
   "outputs": [
    {
     "data": {
      "text/html": [
       "<div>\n",
       "<style scoped>\n",
       "    .dataframe tbody tr th:only-of-type {\n",
       "        vertical-align: middle;\n",
       "    }\n",
       "\n",
       "    .dataframe tbody tr th {\n",
       "        vertical-align: top;\n",
       "    }\n",
       "\n",
       "    .dataframe thead th {\n",
       "        text-align: right;\n",
       "    }\n",
       "</style>\n",
       "<table border=\"1\" class=\"dataframe\">\n",
       "  <thead>\n",
       "    <tr style=\"text-align: right;\">\n",
       "      <th></th>\n",
       "      <th>userId</th>\n",
       "      <th>Id</th>\n",
       "      <th>scored</th>\n",
       "      <th>title</th>\n",
       "      <th>listed_in</th>\n",
       "      <th>description</th>\n",
       "    </tr>\n",
       "  </thead>\n",
       "  <tbody>\n",
       "    <tr>\n",
       "      <th>0</th>\n",
       "      <td>1</td>\n",
       "      <td>as680</td>\n",
       "      <td>1.0</td>\n",
       "      <td>the english civil war</td>\n",
       "      <td>documentary, special interest</td>\n",
       "      <td>a nation divided. it was a time of great bitte...</td>\n",
       "    </tr>\n",
       "    <tr>\n",
       "      <th>1</th>\n",
       "      <td>1</td>\n",
       "      <td>ns2186</td>\n",
       "      <td>4.5</td>\n",
       "      <td>latte and the magic waterstone</td>\n",
       "      <td>children &amp; family movies, comedies</td>\n",
       "      <td>when a greedy bear steals a magic stone to kee...</td>\n",
       "    </tr>\n",
       "    <tr>\n",
       "      <th>2</th>\n",
       "      <td>1</td>\n",
       "      <td>hs2381</td>\n",
       "      <td>5.0</td>\n",
       "      <td>la diosa coronada</td>\n",
       "      <td>crime, drama, latino</td>\n",
       "      <td>la diosa coronada es una historia donde los su...</td>\n",
       "    </tr>\n",
       "    <tr>\n",
       "      <th>3</th>\n",
       "      <td>1</td>\n",
       "      <td>ns3663</td>\n",
       "      <td>5.0</td>\n",
       "      <td>frankenstein’s monster’s monster, frankenstein</td>\n",
       "      <td>comedies</td>\n",
       "      <td>when actor david harbour finds lost footage of...</td>\n",
       "    </tr>\n",
       "    <tr>\n",
       "      <th>4</th>\n",
       "      <td>1</td>\n",
       "      <td>as9500</td>\n",
       "      <td>5.0</td>\n",
       "      <td>kept woman</td>\n",
       "      <td>drama, suspense</td>\n",
       "      <td>jessica and her fiancé finally move out of the...</td>\n",
       "    </tr>\n",
       "  </tbody>\n",
       "</table>\n",
       "</div>"
      ],
      "text/plain": [
       "   userId      Id  scored                                           title  \\\n",
       "0       1   as680     1.0                           the english civil war   \n",
       "1       1  ns2186     4.5                  latte and the magic waterstone   \n",
       "2       1  hs2381     5.0                               la diosa coronada   \n",
       "3       1  ns3663     5.0  frankenstein’s monster’s monster, frankenstein   \n",
       "4       1  as9500     5.0                                      kept woman   \n",
       "\n",
       "                            listed_in  \\\n",
       "0       documentary, special interest   \n",
       "1  children & family movies, comedies   \n",
       "2                crime, drama, latino   \n",
       "3                            comedies   \n",
       "4                     drama, suspense   \n",
       "\n",
       "                                         description  \n",
       "0  a nation divided. it was a time of great bitte...  \n",
       "1  when a greedy bear steals a magic stone to kee...  \n",
       "2  la diosa coronada es una historia donde los su...  \n",
       "3  when actor david harbour finds lost footage of...  \n",
       "4  jessica and her fiancé finally move out of the...  "
      ]
     },
     "execution_count": 58,
     "metadata": {},
     "output_type": "execute_result"
    }
   ],
   "source": [
    "df_movies=reviews.merge(movies, on='Id',how='left')\n",
    "df_movies.head()"
   ]
  },
  {
   "cell_type": "code",
   "execution_count": 9,
   "metadata": {},
   "outputs": [
    {
     "data": {
      "text/html": [
       "<div>\n",
       "<style scoped>\n",
       "    .dataframe tbody tr th:only-of-type {\n",
       "        vertical-align: middle;\n",
       "    }\n",
       "\n",
       "    .dataframe tbody tr th {\n",
       "        vertical-align: top;\n",
       "    }\n",
       "\n",
       "    .dataframe thead th {\n",
       "        text-align: right;\n",
       "    }\n",
       "</style>\n",
       "<table border=\"1\" class=\"dataframe\">\n",
       "  <thead>\n",
       "    <tr style=\"text-align: right;\">\n",
       "      <th></th>\n",
       "      <th>userId</th>\n",
       "      <th>Id</th>\n",
       "      <th>scored</th>\n",
       "    </tr>\n",
       "  </thead>\n",
       "  <tbody>\n",
       "    <tr>\n",
       "      <th>0</th>\n",
       "      <td>1</td>\n",
       "      <td>as680</td>\n",
       "      <td>1.0</td>\n",
       "    </tr>\n",
       "    <tr>\n",
       "      <th>1</th>\n",
       "      <td>1</td>\n",
       "      <td>ns2186</td>\n",
       "      <td>4.5</td>\n",
       "    </tr>\n",
       "    <tr>\n",
       "      <th>2</th>\n",
       "      <td>1</td>\n",
       "      <td>hs2381</td>\n",
       "      <td>5.0</td>\n",
       "    </tr>\n",
       "    <tr>\n",
       "      <th>3</th>\n",
       "      <td>1</td>\n",
       "      <td>ns3663</td>\n",
       "      <td>5.0</td>\n",
       "    </tr>\n",
       "    <tr>\n",
       "      <th>4</th>\n",
       "      <td>1</td>\n",
       "      <td>as9500</td>\n",
       "      <td>5.0</td>\n",
       "    </tr>\n",
       "    <tr>\n",
       "      <th>...</th>\n",
       "      <td>...</td>\n",
       "      <td>...</td>\n",
       "      <td>...</td>\n",
       "    </tr>\n",
       "    <tr>\n",
       "      <th>11024160</th>\n",
       "      <td>124380</td>\n",
       "      <td>ns5272</td>\n",
       "      <td>4.5</td>\n",
       "    </tr>\n",
       "    <tr>\n",
       "      <th>11024161</th>\n",
       "      <td>124380</td>\n",
       "      <td>ns5492</td>\n",
       "      <td>2.5</td>\n",
       "    </tr>\n",
       "    <tr>\n",
       "      <th>11024162</th>\n",
       "      <td>124380</td>\n",
       "      <td>hs305</td>\n",
       "      <td>3.5</td>\n",
       "    </tr>\n",
       "    <tr>\n",
       "      <th>11024163</th>\n",
       "      <td>124380</td>\n",
       "      <td>ns7881</td>\n",
       "      <td>4.5</td>\n",
       "    </tr>\n",
       "    <tr>\n",
       "      <th>11024164</th>\n",
       "      <td>124380</td>\n",
       "      <td>as883</td>\n",
       "      <td>1.5</td>\n",
       "    </tr>\n",
       "  </tbody>\n",
       "</table>\n",
       "<p>11024165 rows × 3 columns</p>\n",
       "</div>"
      ],
      "text/plain": [
       "          userId      Id  scored\n",
       "0              1   as680     1.0\n",
       "1              1  ns2186     4.5\n",
       "2              1  hs2381     5.0\n",
       "3              1  ns3663     5.0\n",
       "4              1  as9500     5.0\n",
       "...          ...     ...     ...\n",
       "11024160  124380  ns5272     4.5\n",
       "11024161  124380  ns5492     2.5\n",
       "11024162  124380   hs305     3.5\n",
       "11024163  124380  ns7881     4.5\n",
       "11024164  124380   as883     1.5\n",
       "\n",
       "[11024165 rows x 3 columns]"
      ]
     },
     "execution_count": 9,
     "metadata": {},
     "output_type": "execute_result"
    }
   ],
   "source": [
    "df_movies_to_model = df_movies[df_movies.columns[:-3]]\n",
    "df_movies_to_model"
   ]
  },
  {
   "attachments": {},
   "cell_type": "markdown",
   "metadata": {},
   "source": [
    "* Primero, cargamos los datos en un objeto Dataset de Surprise definiendo reader"
   ]
  },
  {
   "cell_type": "code",
   "execution_count": 17,
   "metadata": {},
   "outputs": [],
   "source": [
    "\n",
    "# Cargar datos\n",
    "reader = Reader(line_format='user item rating timestamp', sep=',', skip_lines=1)\n"
   ]
  },
  {
   "attachments": {},
   "cell_type": "markdown",
   "metadata": {},
   "source": [
    "* cargamos el dataset que queremos cargar de reviews"
   ]
  },
  {
   "cell_type": "code",
   "execution_count": 30,
   "metadata": {},
   "outputs": [],
   "source": [
    "data = Dataset.load_from_file('scoring.csv', reader=reader)"
   ]
  },
  {
   "attachments": {},
   "cell_type": "markdown",
   "metadata": {},
   "source": [
    "* A continuación, podemos definir el modelo de recomendación que queremos utilizar. En este caso, utilizaremos un modelo de factorización de matrices denominado SVD (Singular Value Decomposition), que es un modelo popular para la recomendación de películas:"
   ]
  },
  {
   "cell_type": "code",
   "execution_count": 31,
   "metadata": {},
   "outputs": [],
   "source": [
    "# Definir modelo de recomendación\n",
    "model = SVD(n_factors=100, n_epochs=20, lr_all=0.005, reg_all=0.02)\n"
   ]
  },
  {
   "cell_type": "code",
   "execution_count": 32,
   "metadata": {},
   "outputs": [
    {
     "data": {
      "text/plain": [
       "<surprise.prediction_algorithms.matrix_factorization.SVD at 0x2318e981b80>"
      ]
     },
     "execution_count": 32,
     "metadata": {},
     "output_type": "execute_result"
    }
   ],
   "source": [
    "# Entrenar modelo\n",
    "model.fit(data.build_full_trainset())\n"
   ]
  },
  {
   "attachments": {},
   "cell_type": "markdown",
   "metadata": {},
   "source": [
    "* Probando prediccion con datos dados al modelo"
   ]
  },
  {
   "cell_type": "code",
   "execution_count": 50,
   "metadata": {},
   "outputs": [
    {
     "data": {
      "text/plain": [
       "Prediction(uid=1, iid='ns3830', r_ui=None, est=3.5334550373271236, details={'was_impossible': False})"
      ]
     },
     "execution_count": 50,
     "metadata": {},
     "output_type": "execute_result"
    }
   ],
   "source": [
    "model.predict(uid=1, iid='ns3830')"
   ]
  },
  {
   "attachments": {},
   "cell_type": "markdown",
   "metadata": {},
   "source": [
    "* el modelo tambien se lo puede descargar de esta manera para luego aplicarlo en alguna api no lo haremos en este caso pero es la opcion"
   ]
  },
  {
   "cell_type": "code",
   "execution_count": null,
   "metadata": {},
   "outputs": [],
   "source": [
    "import joblib\n",
    "\n",
    "# Guardar modelo entrenado\n",
    "joblib.dump(model, 'modelo_entrenado_review.pkl')"
   ]
  },
  {
   "cell_type": "code",
   "execution_count": 71,
   "metadata": {},
   "outputs": [
    {
     "data": {
      "text/html": [
       "<div>\n",
       "<style scoped>\n",
       "    .dataframe tbody tr th:only-of-type {\n",
       "        vertical-align: middle;\n",
       "    }\n",
       "\n",
       "    .dataframe tbody tr th {\n",
       "        vertical-align: top;\n",
       "    }\n",
       "\n",
       "    .dataframe thead th {\n",
       "        text-align: right;\n",
       "    }\n",
       "</style>\n",
       "<table border=\"1\" class=\"dataframe\">\n",
       "  <thead>\n",
       "    <tr style=\"text-align: right;\">\n",
       "      <th></th>\n",
       "      <th>userId</th>\n",
       "      <th>Id</th>\n",
       "      <th>scored</th>\n",
       "      <th>title</th>\n",
       "      <th>listed_in</th>\n",
       "      <th>description</th>\n",
       "    </tr>\n",
       "  </thead>\n",
       "  <tbody>\n",
       "    <tr>\n",
       "      <th>43560</th>\n",
       "      <td>463</td>\n",
       "      <td>hs2</td>\n",
       "      <td>2.0</td>\n",
       "      <td>silent night</td>\n",
       "      <td>crime, drama, thriller</td>\n",
       "      <td>mark, a low end south london hitman recently r...</td>\n",
       "    </tr>\n",
       "    <tr>\n",
       "      <th>64185</th>\n",
       "      <td>684</td>\n",
       "      <td>hs2</td>\n",
       "      <td>4.0</td>\n",
       "      <td>silent night</td>\n",
       "      <td>crime, drama, thriller</td>\n",
       "      <td>mark, a low end south london hitman recently r...</td>\n",
       "    </tr>\n",
       "    <tr>\n",
       "      <th>126074</th>\n",
       "      <td>1258</td>\n",
       "      <td>hs2</td>\n",
       "      <td>3.0</td>\n",
       "      <td>silent night</td>\n",
       "      <td>crime, drama, thriller</td>\n",
       "      <td>mark, a low end south london hitman recently r...</td>\n",
       "    </tr>\n",
       "    <tr>\n",
       "      <th>137246</th>\n",
       "      <td>1383</td>\n",
       "      <td>hs2</td>\n",
       "      <td>4.0</td>\n",
       "      <td>silent night</td>\n",
       "      <td>crime, drama, thriller</td>\n",
       "      <td>mark, a low end south london hitman recently r...</td>\n",
       "    </tr>\n",
       "    <tr>\n",
       "      <th>140446</th>\n",
       "      <td>1428</td>\n",
       "      <td>hs2</td>\n",
       "      <td>5.0</td>\n",
       "      <td>silent night</td>\n",
       "      <td>crime, drama, thriller</td>\n",
       "      <td>mark, a low end south london hitman recently r...</td>\n",
       "    </tr>\n",
       "    <tr>\n",
       "      <th>...</th>\n",
       "      <td>...</td>\n",
       "      <td>...</td>\n",
       "      <td>...</td>\n",
       "      <td>...</td>\n",
       "      <td>...</td>\n",
       "      <td>...</td>\n",
       "    </tr>\n",
       "    <tr>\n",
       "      <th>10928700</th>\n",
       "      <td>123457</td>\n",
       "      <td>hs2</td>\n",
       "      <td>3.0</td>\n",
       "      <td>silent night</td>\n",
       "      <td>crime, drama, thriller</td>\n",
       "      <td>mark, a low end south london hitman recently r...</td>\n",
       "    </tr>\n",
       "    <tr>\n",
       "      <th>10943691</th>\n",
       "      <td>123596</td>\n",
       "      <td>hs2</td>\n",
       "      <td>3.5</td>\n",
       "      <td>silent night</td>\n",
       "      <td>crime, drama, thriller</td>\n",
       "      <td>mark, a low end south london hitman recently r...</td>\n",
       "    </tr>\n",
       "    <tr>\n",
       "      <th>10969821</th>\n",
       "      <td>123876</td>\n",
       "      <td>hs2</td>\n",
       "      <td>3.0</td>\n",
       "      <td>silent night</td>\n",
       "      <td>crime, drama, thriller</td>\n",
       "      <td>mark, a low end south london hitman recently r...</td>\n",
       "    </tr>\n",
       "    <tr>\n",
       "      <th>10991774</th>\n",
       "      <td>124021</td>\n",
       "      <td>hs2</td>\n",
       "      <td>3.0</td>\n",
       "      <td>silent night</td>\n",
       "      <td>crime, drama, thriller</td>\n",
       "      <td>mark, a low end south london hitman recently r...</td>\n",
       "    </tr>\n",
       "    <tr>\n",
       "      <th>11020447</th>\n",
       "      <td>124321</td>\n",
       "      <td>hs2</td>\n",
       "      <td>3.0</td>\n",
       "      <td>silent night</td>\n",
       "      <td>crime, drama, thriller</td>\n",
       "      <td>mark, a low end south london hitman recently r...</td>\n",
       "    </tr>\n",
       "  </tbody>\n",
       "</table>\n",
       "<p>464 rows × 6 columns</p>\n",
       "</div>"
      ],
      "text/plain": [
       "          userId   Id  scored         title               listed_in  \\\n",
       "43560        463  hs2     2.0  silent night  crime, drama, thriller   \n",
       "64185        684  hs2     4.0  silent night  crime, drama, thriller   \n",
       "126074      1258  hs2     3.0  silent night  crime, drama, thriller   \n",
       "137246      1383  hs2     4.0  silent night  crime, drama, thriller   \n",
       "140446      1428  hs2     5.0  silent night  crime, drama, thriller   \n",
       "...          ...  ...     ...           ...                     ...   \n",
       "10928700  123457  hs2     3.0  silent night  crime, drama, thriller   \n",
       "10943691  123596  hs2     3.5  silent night  crime, drama, thriller   \n",
       "10969821  123876  hs2     3.0  silent night  crime, drama, thriller   \n",
       "10991774  124021  hs2     3.0  silent night  crime, drama, thriller   \n",
       "11020447  124321  hs2     3.0  silent night  crime, drama, thriller   \n",
       "\n",
       "                                                description  \n",
       "43560     mark, a low end south london hitman recently r...  \n",
       "64185     mark, a low end south london hitman recently r...  \n",
       "126074    mark, a low end south london hitman recently r...  \n",
       "137246    mark, a low end south london hitman recently r...  \n",
       "140446    mark, a low end south london hitman recently r...  \n",
       "...                                                     ...  \n",
       "10928700  mark, a low end south london hitman recently r...  \n",
       "10943691  mark, a low end south london hitman recently r...  \n",
       "10969821  mark, a low end south london hitman recently r...  \n",
       "10991774  mark, a low end south london hitman recently r...  \n",
       "11020447  mark, a low end south london hitman recently r...  \n",
       "\n",
       "[464 rows x 6 columns]"
      ]
     },
     "execution_count": 71,
     "metadata": {},
     "output_type": "execute_result"
    }
   ],
   "source": [
    "# Buscar la fila del DataFrame que corresponde a la película\n",
    "movie_row = df_movies[df_movies['title'] == 'silent night']\n",
    "\n",
    "# Obtener el valor de la columna \"movieId\" de la fila encontrada\n",
    "movie_row\n"
   ]
  },
  {
   "cell_type": "code",
   "execution_count": 73,
   "metadata": {},
   "outputs": [
    {
     "data": {
      "text/plain": [
       "'hs2'"
      ]
     },
     "execution_count": 73,
     "metadata": {},
     "output_type": "execute_result"
    }
   ],
   "source": [
    "movie_id = movie_row['Id'].values[1]\n",
    "movie_id"
   ]
  },
  {
   "attachments": {},
   "cell_type": "markdown",
   "metadata": {},
   "source": [
    "* colocamos en una funcion lo que queremos para pedir segun un usuario y la pelicula dada del dataframe de movies si se la recomienda o no a dicho usuario segun la consigna dado un ratin hardcodeado que pusimos en la funcion y segun el modelo aplicado o la prediccion estimada (model) que procesamos en los pasos anteriores"
   ]
  },
  {
   "cell_type": "code",
   "execution_count": 74,
   "metadata": {},
   "outputs": [
    {
     "data": {
      "text/plain": [
       "'Se recomienda ver silent night.'"
      ]
     },
     "execution_count": 74,
     "metadata": {},
     "output_type": "execute_result"
    }
   ],
   "source": [
    "def recomendacion_pelicula(usuario, pelicula):\n",
    "    # Cargar los datos de películas y calificaciones\n",
    "    \n",
    "    # Obtener el ID de la película\n",
    "    movie_row = df_movies[df_movies['title'] == pelicula]\n",
    "    \n",
    "    movie_id = movie_row['Id'].values[1]\n",
    "    \n",
    "    #movie_id = df_movies[df_movies['title'] == pelicula]['Id'].values[1]\n",
    "    \n",
    "    # Hacer la predicción con el modelo para el usuario y la película\n",
    "    prediction = model.predict(usuario, movie_id).est\n",
    "    \n",
    "    # Si la predicción es mayor que 3.5, recomendar ver la película\n",
    "    if prediction >= 3.3:\n",
    "        return f\"Se recomienda ver {pelicula}.\"\n",
    "    else:\n",
    "        return f\"no se recomienda ver la {pelicula}.\"\n",
    "    \n",
    "recomendacion_pelicula(usuario=1, pelicula='silent night')"
   ]
  }
 ],
 "metadata": {
  "kernelspec": {
   "display_name": "base",
   "language": "python",
   "name": "python3"
  },
  "language_info": {
   "codemirror_mode": {
    "name": "ipython",
    "version": 3
   },
   "file_extension": ".py",
   "mimetype": "text/x-python",
   "name": "python",
   "nbconvert_exporter": "python",
   "pygments_lexer": "ipython3",
   "version": "3.9.13"
  },
  "orig_nbformat": 4,
  "vscode": {
   "interpreter": {
    "hash": "6f5583cf1d9466b5c27e75c89cc6b383bed5736d6b16c51c8074d8690011a952"
   }
  }
 },
 "nbformat": 4,
 "nbformat_minor": 2
}
